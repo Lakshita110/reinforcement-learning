{
 "cells": [
  {
   "cell_type": "markdown",
   "id": "e8835ea4",
   "metadata": {},
   "source": [
    "- Train Against: Old-version of self  <br>\n",
    "- Evaluate Against: Mixed agent <br>\n",
    "- Network A & B"
   ]
  },
  {
   "cell_type": "code",
   "execution_count": 3,
   "id": "7a76b21a",
   "metadata": {},
   "outputs": [],
   "source": [
    "from ConnectFourBoard import ConnectFourBoard\n",
    "from QLearningAgent import DQNAgent\n",
    "import numpy as np\n",
    "import random\n",
    "import torch\n",
    "import copy\n",
    "import matplotlib.pyplot as plt\n",
    "%matplotlib inline"
   ]
  },
  {
   "cell_type": "code",
   "execution_count": 2,
   "id": "804bc216",
   "metadata": {},
   "outputs": [],
   "source": [
    "class HeuristicOpponent:\n",
    "    def __init__(self, env):\n",
    "        self.env = env\n",
    "\n",
    "    def choose_action(self):\n",
    "        # Try to win in one move\n",
    "        for action in self.env.get_available_actions():\n",
    "            temp_env = copy.deepcopy(self.env)\n",
    "            temp_env.step(action)\n",
    "            if temp_env.winner == -1:\n",
    "                return action\n",
    "\n",
    "        # Try to block opponent's win in one move\n",
    "        for action in self.env.get_available_actions():\n",
    "            temp_env = copy.deepcopy(self.env)\n",
    "            temp_env.current_player = 1  # Agent's turn in simulated env\n",
    "            temp_env.step(action)\n",
    "            if temp_env.winner == 1:\n",
    "                return action\n",
    "\n",
    "        # Fallback to center preference (often stronger)\n",
    "        if 3 in self.env.get_available_actions():\n",
    "            return 3\n",
    "\n",
    "        # Otherwise pick random\n",
    "        return random.choice(self.env.get_available_actions())"
   ]
  },
  {
   "cell_type": "code",
   "execution_count": 4,
   "id": "95cf47ba",
   "metadata": {},
   "outputs": [],
   "source": [
    "def train_agent(agent, episodes=5000, eval_every=1000, eval_games=100, opponent_update_freq=1000):\n",
    "    rewards = []\n",
    "    win_percentages = []\n",
    "\n",
    "    # Create an opponent agent as a frozen copy of the main agent\n",
    "    opponent_agent = copy.deepcopy(agent)\n",
    "    opponent_agent.epsilon = 0.0  \n",
    "    opponent_agent.env = agent.env\n",
    "\n",
    "    for ep in range(1, episodes + 1):\n",
    "        state, _ = agent.env.reset()\n",
    "        done = False\n",
    "        total_reward = 0\n",
    "\n",
    "        while not done:\n",
    "            if agent.env.current_player == 1:\n",
    "                action = agent.select_action(state)\n",
    "                next_state, reward, done, _, _ = agent.env.step(action)\n",
    "                agent.store_transition(state, action, reward, next_state, done)\n",
    "                agent.update()\n",
    "                state = next_state\n",
    "            else:\n",
    "                action = opponent_agent.select_action(state)\n",
    "                state, reward, done, _, _ = agent.env.step(action)\n",
    "\n",
    "        total_reward = agent.env.winner\n",
    "        rewards.append(total_reward)\n",
    "\n",
    "        agent.epsilon = max(agent.epsilon_end, agent.epsilon * agent.epsilon_decay)\n",
    "\n",
    "        # Update target network\n",
    "        if ep % agent.target_update_freq == 0:\n",
    "            agent.target_net.load_state_dict(agent.q_net.state_dict())\n",
    "\n",
    "        # Update opponent agent (self-play reference)\n",
    "        if ep % opponent_update_freq == 0:\n",
    "            opponent_agent = copy.deepcopy(agent)\n",
    "            opponent_agent.epsilon = 0.0  \n",
    "            opponent_agent.env = agent.env\n",
    "\n",
    "        # Evaluation vs heuristic opponent\n",
    "        heuristic_opponent = HeuristicOpponent(agent.env)\n",
    "        \n",
    "        if ep % eval_every == 0:\n",
    "            epsilon_temp = agent.epsilon\n",
    "            agent.epsilon = 0.0\n",
    "\n",
    "            win_count = 0\n",
    "            for _ in range(eval_games):\n",
    "                state, _ = agent.env.reset()\n",
    "                done = False\n",
    "                while not done:\n",
    "                    if agent.env.current_player == 1:\n",
    "                        action = agent.select_action(state)\n",
    "                    else:\n",
    "                        if np.random.rand() < 0.5:\n",
    "                            action = heuristic_opponent.choose_action()\n",
    "                        else:\n",
    "                            action = np.random.choice(agent.env.get_available_actions())\n",
    "                    state, reward, done, _, _ = agent.env.step(action)\n",
    "\n",
    "                if agent.env.winner == 1:\n",
    "                    win_count += 1\n",
    "\n",
    "            agent.epsilon = epsilon_temp\n",
    "\n",
    "            win_percentage = (win_count / eval_games) * 100\n",
    "            win_percentages.append(win_percentage)\n",
    "            print(f\"Episode {ep}: Agent won {win_percentage:.2f}% vs Mixed Opponent\")\n",
    "\n",
    "    # Plotting\n",
    "    plt.plot(range(eval_every, episodes + 1, eval_every), win_percentages)\n",
    "    plt.xlabel(\"Training Episodes\")\n",
    "    plt.ylabel(\"Win % vs Random Baseline\")\n",
    "    plt.title(\"DQN Agent Self-Play Evaluation\")\n",
    "    plt.grid(True)\n",
    "    plt.show()\n",
    "\n",
    "    return rewards, win_percentages\n"
   ]
  },
  {
   "cell_type": "code",
   "execution_count": null,
   "id": "e0400db3",
   "metadata": {},
   "outputs": [
    {
     "name": "stdout",
     "output_type": "stream",
     "text": [
      "Episode 1000: Agent won 39.00% vs Mixed Opponent\n",
      "Episode 2000: Agent won 36.00% vs Mixed Opponent\n",
      "Episode 3000: Agent won 42.00% vs Mixed Opponent\n"
     ]
    }
   ],
   "source": [
    "eval_every = 1000\n",
    "episodes = 50000\n",
    "env = ConnectFourBoard()\n",
    "opponent = HeuristicOpponent(env)\n",
    "agent = DQNAgent(env, device=\"cuda\" if torch.cuda.is_available() else \"cpu\", network=\"B\")\n",
    "rewards, win_percentages = train_agent(\n",
    "    agent, episodes=episodes, eval_every=eval_every, eval_games=100\n",
    ")"
   ]
  },
  {
   "cell_type": "code",
   "execution_count": null,
   "id": "de7e6488",
   "metadata": {},
   "outputs": [],
   "source": [
    "# Save the results rewards and win percentages in a file\n",
    "np.savez(\n",
    "    \"training_results_selfplay_mixed_B.npz\",\n",
    "    rewards=rewards,\n",
    "    win_percentages=win_percentages,\n",
    ")"
   ]
  }
 ],
 "metadata": {
  "kernelspec": {
   "display_name": "SSL-vs-SSL-benchmark-WOtSSRbQ",
   "language": "python",
   "name": "python3"
  },
  "language_info": {
   "codemirror_mode": {
    "name": "ipython",
    "version": 3
   },
   "file_extension": ".py",
   "mimetype": "text/x-python",
   "name": "python",
   "nbconvert_exporter": "python",
   "pygments_lexer": "ipython3",
   "version": "3.10.4"
  }
 },
 "nbformat": 4,
 "nbformat_minor": 5
}
