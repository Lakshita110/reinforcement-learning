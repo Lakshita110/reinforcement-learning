{
 "cells": [
  {
   "cell_type": "code",
   "execution_count": 4,
   "id": "7a76b21a",
   "metadata": {},
   "outputs": [],
   "source": [
    "from ConnectFourBoard import ConnectFourBoard\n",
    "from QLearningAgent import QLearningAgent\n",
    "import random"
   ]
  },
  {
   "cell_type": "code",
   "execution_count": 2,
   "id": "41c5f663",
   "metadata": {},
   "outputs": [],
   "source": [
    "env = ConnectFourBoard(render_mode=\"human\")\n",
    "env.reset()\n",
    "\n",
    "for i in range(10):\n",
    "    col = random.randint(0, 6)\n",
    "    env.step(col)"
   ]
  },
  {
   "cell_type": "code",
   "execution_count": 12,
   "id": "4ef29b53",
   "metadata": {},
   "outputs": [
    {
     "name": "stdout",
     "output_type": "stream",
     "text": [
      "dict_keys([])\n"
     ]
    }
   ],
   "source": [
    "agent = QLearningAgent(env, learning_rate=0.1, initial_epsilon=1.0,\n",
    "                       epsilon_decay=0.99, final_epsilon=0.1, discount_factor=0.9)\n",
    "print(agent.q_table.keys())"
   ]
  }
 ],
 "metadata": {
  "kernelspec": {
   "display_name": "cs135_env",
   "language": "python",
   "name": "python3"
  },
  "language_info": {
   "codemirror_mode": {
    "name": "ipython",
    "version": 3
   },
   "file_extension": ".py",
   "mimetype": "text/x-python",
   "name": "python",
   "nbconvert_exporter": "python",
   "pygments_lexer": "ipython3",
   "version": "3.10.16"
  }
 },
 "nbformat": 4,
 "nbformat_minor": 5
}
