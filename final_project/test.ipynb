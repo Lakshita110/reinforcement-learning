{
 "cells": [
  {
   "cell_type": "code",
   "execution_count": null,
   "id": "7a76b21a",
   "metadata": {},
   "outputs": [],
   "source": [
    "from ConnectFourBoard import ConnectFourBoard\n",
    "from QLearningAgent import DQNAgent\n",
    "import numpy as np\n",
    "import random\n",
    "import torch\n",
    "import matplotlib.pyplot as plt"
   ]
  },
  {
   "cell_type": "code",
   "execution_count": null,
   "id": "95cf47ba",
   "metadata": {},
   "outputs": [
    {
     "name": "stderr",
     "output_type": "stream",
     "text": [
      "100%|██████████| 10/10 [00:00<00:00, 11.25it/s]\n"
     ]
    }
   ],
   "source": [
    "def train_agent(agent, episodes=5000, eval_every=1000, eval_games=100):\n",
    "    rewards = []\n",
    "    win_percentages = []\n",
    "\n",
    "    for ep in range(1, episodes + 1):\n",
    "        state, _ = agent.env.reset()\n",
    "        done = False\n",
    "        total_reward = 0\n",
    "\n",
    "        while not done:\n",
    "            if agent.env.current_player == 1:\n",
    "                # Agent's turn\n",
    "                action = agent.select_action(state)\n",
    "                next_state, reward, done, _, _ = agent.env.step(action)\n",
    "                agent.store_transition(state, action, reward, next_state, done)\n",
    "                agent.update()\n",
    "                state = next_state\n",
    "            else:\n",
    "                # Opponent is also the agent (self-play)\n",
    "                action = agent.select_action(state)\n",
    "                state, reward, done, _, _ = agent.env.step(action)\n",
    "\n",
    "        total_reward = agent.env.winner\n",
    "        rewards.append(total_reward)\n",
    "\n",
    "        agent.epsilon = max(agent.epsilon_end,\n",
    "                            agent.epsilon * agent.epsilon_decay)\n",
    "\n",
    "        if ep % agent.target_update_freq == 0:\n",
    "            agent.target_net.load_state_dict(agent.q_net.state_dict())\n",
    "\n",
    "        # Evaluate against random baseline\n",
    "        if ep % eval_every == 0:\n",
    "            win_count = 0\n",
    "            for _ in range(eval_games):\n",
    "                state, _ = agent.env.reset()\n",
    "                done = False\n",
    "                while not done:\n",
    "                    if agent.env.current_player == 1:\n",
    "                        action = agent.select_action(state)\n",
    "                    else:\n",
    "                        action = random.choice(\n",
    "                            agent.env.get_available_actions())\n",
    "                    state, reward, done, _, _ = agent.env.step(action)\n",
    "\n",
    "                if agent.env.winner == 1:\n",
    "                    win_count += 1\n",
    "\n",
    "            win_percentage = (win_count / eval_games) * 100\n",
    "            win_percentages.append(win_percentage)\n",
    "            print(\n",
    "                f\"Episode {ep}: Agent won {win_percentage:.2f}% against random baseline\")\n",
    "    plt.plot(range(eval_every, episodes + 1, eval_every), win_percentages)\n",
    "    plt.xlabel(\"Training Episodes\")\n",
    "    plt.ylabel(\"Win % vs Random Baseline\")\n",
    "    plt.title(\"DQN Agent Evaluation Performance\")\n",
    "    plt.grid(True)\n",
    "    plt.show()\n",
    "\n",
    "    return rewards, win_percentages"
   ]
  },
  {
   "cell_type": "code",
   "execution_count": null,
   "id": "63b4bf2d",
   "metadata": {},
   "outputs": [
    {
     "ename": "",
     "evalue": "",
     "output_type": "error",
     "traceback": [
      "\u001b[1;31mThe Kernel crashed while executing code in the current cell or a previous cell. \n",
      "\u001b[1;31mPlease review the code in the cell(s) to identify a possible cause of the failure. \n",
      "\u001b[1;31mClick <a href='https://aka.ms/vscodeJupyterKernelCrash'>here</a> for more info. \n",
      "\u001b[1;31mView Jupyter <a href='command:jupyter.viewOutput'>log</a> for further details."
     ]
    }
   ],
   "source": [
    "env = ConnectFourBoard()\n",
    "agent = DQNAgent(env, device=\"cuda\" if torch.cuda.is_available() else \"cpu\")"
   ]
  },
  {
   "cell_type": "code",
   "execution_count": null,
   "id": "98d56e96",
   "metadata": {},
   "outputs": [],
   "source": [
    "rewards, win_percentages = train_agent(\n",
    "    agent, episodes=10000, eval_every=1000, eval_games=100)"
   ]
  }
 ],
 "metadata": {
  "kernelspec": {
   "display_name": "cs135_env",
   "language": "python",
   "name": "python3"
  },
  "language_info": {
   "codemirror_mode": {
    "name": "ipython",
    "version": 3
   },
   "file_extension": ".py",
   "mimetype": "text/x-python",
   "name": "python",
   "nbconvert_exporter": "python",
   "pygments_lexer": "ipython3",
   "version": "3.10.16"
  }
 },
 "nbformat": 4,
 "nbformat_minor": 5
}
