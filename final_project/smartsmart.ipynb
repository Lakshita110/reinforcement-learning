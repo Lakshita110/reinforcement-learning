{
 "cells": [
  {
   "cell_type": "code",
   "execution_count": 12,
   "id": "7a76b21a",
   "metadata": {},
   "outputs": [],
   "source": [
    "from ConnectFourBoard import ConnectFourBoard\n",
    "from QLearningAgent import DQNAgent\n",
    "import numpy as np\n",
    "import random\n",
    "import torch\n",
    "import copy\n",
    "import matplotlib.pyplot as plt\n",
    "%matplotlib inline"
   ]
  },
  {
   "cell_type": "code",
   "execution_count": 13,
   "id": "804bc216",
   "metadata": {},
   "outputs": [],
   "source": [
    "class HeuristicOpponent:\n",
    "    def __init__(self, env):\n",
    "        self.env = env\n",
    "\n",
    "    def choose_action(self):\n",
    "        # Try to win in one move\n",
    "        for action in self.env.get_available_actions():\n",
    "            temp_env = copy.deepcopy(self.env)\n",
    "            temp_env.step(action)\n",
    "            if temp_env.winner == -1:\n",
    "                return action\n",
    "\n",
    "        # Try to block opponent's win in one move\n",
    "        for action in self.env.get_available_actions():\n",
    "            temp_env = copy.deepcopy(self.env)\n",
    "            temp_env.current_player = 1  # Agent's turn in simulated env\n",
    "            temp_env.step(action)\n",
    "            if temp_env.winner == 1:\n",
    "                return action\n",
    "\n",
    "        # Fallback to center preference (often stronger)\n",
    "        if 3 in self.env.get_available_actions():\n",
    "            return 3\n",
    "\n",
    "        # Otherwise pick random\n",
    "        return random.choice(self.env.get_available_actions())\n"
   ]
  },
  {
   "cell_type": "code",
   "execution_count": 14,
   "id": "95cf47ba",
   "metadata": {},
   "outputs": [],
   "source": [
    "def train_agent(agent, episodes=5000, eval_every=1000, eval_games=100, opponent=None):\n",
    "    rewards = []\n",
    "    win_percentages = []\n",
    "\n",
    "    for ep in range(1, episodes + 1):\n",
    "        state, _ = agent.env.reset()\n",
    "        done = False\n",
    "        total_reward = 0\n",
    "\n",
    "        while not done:\n",
    "            if agent.env.current_player == 1:\n",
    "                # Agent's turn\n",
    "                action = agent.select_action(state)\n",
    "                next_state, reward, done, _, _ = agent.env.step(action)\n",
    "                agent.store_transition(state, action, reward, next_state, done)\n",
    "                agent.update()\n",
    "                state = next_state\n",
    "            else:\n",
    "                if np.random.rand() < 0.5:\n",
    "                    action = random.choice(agent.env.get_available_actions())\n",
    "                else:\n",
    "                    action = opponent.choose_action()\n",
    "                state, reward, done, _, _ = agent.env.step(action)\n",
    "\n",
    "        total_reward = agent.env.winner\n",
    "        rewards.append(total_reward)\n",
    "\n",
    "        agent.epsilon = max(agent.epsilon_end,\n",
    "                            agent.epsilon * agent.epsilon_decay)\n",
    "\n",
    "        if ep % agent.target_update_freq == 0:\n",
    "            agent.target_net.load_state_dict(agent.q_net.state_dict())\n",
    "\n",
    "       # Evaluate against heuristic baseline\n",
    "        if ep % eval_every == 0:\n",
    "            # Temporarily turn off exploration\n",
    "            epsilon_temp = agent.epsilon\n",
    "            agent.epsilon = 0.0\n",
    "\n",
    "            win_count = 0\n",
    "            for _ in range(eval_games):\n",
    "                state, _ = agent.env.reset()\n",
    "                done = False\n",
    "                while not done:\n",
    "                    if agent.env.current_player == 1:\n",
    "                        action = agent.select_action(state)\n",
    "                    else:\n",
    "                        if np.random.rand() < 0.5:\n",
    "                            action = random.choice(agent.env.get_available_actions())\n",
    "                        else:\n",
    "                            action = opponent.choose_action()\n",
    "                    state, reward, done, _, _ = agent.env.step(action)\n",
    "\n",
    "                if agent.env.winner == 1:\n",
    "                    win_count += 1\n",
    "\n",
    "            # Restore exploration\n",
    "            agent.epsilon = epsilon_temp\n",
    "\n",
    "            win_percentage = (win_count / eval_games) * 100\n",
    "            win_percentages.append(win_percentage)\n",
    "            print(f\"Episode {ep}: Agent won {win_percentage:.2f}% against heuristic opponent\")\n",
    "                \n",
    "    plt.plot(range(eval_every, episodes + 1, eval_every), win_percentages)\n",
    "    plt.xlabel(\"Training Episodes\")\n",
    "    plt.ylabel(\"Win % vs Heuristic Opponent\")\n",
    "    plt.title(\"DQN Agent Evaluation Performance\")\n",
    "    plt.grid(True)\n",
    "    plt.show()\n",
    "\n",
    "    return rewards, win_percentages"
   ]
  },
  {
   "cell_type": "code",
   "execution_count": 15,
   "id": "e0400db3",
   "metadata": {},
   "outputs": [],
   "source": [
    "eval_every = 1000\n",
    "episodes = 100000\n",
    "env = ConnectFourBoard()\n",
    "agent = DQNAgent(env, device=\"cuda\" if torch.cuda.is_available() else \"cpu\")"
   ]
  },
  {
   "cell_type": "code",
   "execution_count": null,
   "id": "3dc758ff",
   "metadata": {},
   "outputs": [
    {
     "name": "stdout",
     "output_type": "stream",
     "text": [
      "Episode 1000: Agent won 4.00% against heuristic opponent\n",
      "Episode 2000: Agent won 30.00% against heuristic opponent\n",
      "Episode 3000: Agent won 38.00% against heuristic opponent\n",
      "Episode 4000: Agent won 37.00% against heuristic opponent\n",
      "Episode 5000: Agent won 37.00% against heuristic opponent\n",
      "Episode 6000: Agent won 30.00% against heuristic opponent\n",
      "Episode 7000: Agent won 35.00% against heuristic opponent\n",
      "Episode 8000: Agent won 41.00% against heuristic opponent\n"
     ]
    }
   ],
   "source": [
    "rewards, win_percentages = train_agent(\n",
    "    agent, episodes=episodes, eval_every=eval_every, eval_games=100, opponent=HeuristicOpponent(env)\n",
    ")"
   ]
  },
  {
   "cell_type": "code",
   "execution_count": null,
   "id": "a18a2803",
   "metadata": {},
   "outputs": [],
   "source": [
    "# Save training results \n",
    "np.savez(\n",
    "    \"training_results_mixed_mixed.npz\",\n",
    "    rewards=rewards,\n",
    "    win_percentages=win_percentages,\n",
    ")"
   ]
  }
 ],
 "metadata": {
  "kernelspec": {
   "display_name": "SSL-vs-SSL-benchmark-WOtSSRbQ",
   "language": "python",
   "name": "python3"
  },
  "language_info": {
   "codemirror_mode": {
    "name": "ipython",
    "version": 3
   },
   "file_extension": ".py",
   "mimetype": "text/x-python",
   "name": "python",
   "nbconvert_exporter": "python",
   "pygments_lexer": "ipython3",
   "version": "3.10.4"
  }
 },
 "nbformat": 4,
 "nbformat_minor": 5
}
